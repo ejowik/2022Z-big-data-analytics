{
 "cells": [
  {
   "cell_type": "code",
   "execution_count": 2,
   "metadata": {},
   "outputs": [],
   "source": [
    "# !pip install google.cloud\n",
    "# !pip install --upgrade google-cloud-pubsub"
   ]
  },
  {
   "cell_type": "code",
   "execution_count": 1,
   "metadata": {},
   "outputs": [],
   "source": [
    "import os\n",
    "from google.cloud import pubsub_v1\n",
    "from concurrent.futures import TimeoutError"
   ]
  },
  {
   "cell_type": "code",
   "execution_count": 25,
   "metadata": {},
   "outputs": [],
   "source": [
    "credentials_path = 'weather-based-forecasting-v2-c4bde37656a7.json'\n",
    "os.environ['GOOGLE_APPLICATION_CREDENTIALS'] = credentials_path\n",
    "timeout = 10"
   ]
  },
  {
   "cell_type": "code",
   "execution_count": 26,
   "metadata": {},
   "outputs": [],
   "source": [
    "subscriber_obs = pubsub_v1.SubscriberClient()\n",
    "subscription_path_obs = 'projects/weather-based-forecasting-v2/subscriptions/python_obs_sub'\n",
    "\n",
    "subscriber_forecast = pubsub_v1.SubscriberClient()\n",
    "subscription_path_forecast = 'projects/weather-based-forecasting-v2/subscriptions/python_forecast_sub'"
   ]
  },
  {
   "cell_type": "code",
   "execution_count": 27,
   "metadata": {},
   "outputs": [],
   "source": [
    "def callback(message):\n",
    "    print(f'Received message: {message}')\n",
    "    print(f'data: {message.data[0:100]}')\n",
    "\n",
    "    if message.attributes:\n",
    "        print(\"Attributes:\")\n",
    "        for key in message.attributes:\n",
    "            value = message.attributes.get(key)\n",
    "            print(f\"{key}: {value}\")\n",
    "\n",
    "    message.ack()"
   ]
  },
  {
   "cell_type": "code",
   "execution_count": 19,
   "metadata": {},
   "outputs": [
    {
     "name": "stdout",
     "output_type": "stream",
     "text": [
      "Listening for messages on projects/weather-based-forecasting-v2/subscriptions/python_obs_sub\n"
     ]
    }
   ],
   "source": [
    "streaming_pull_future_obs = subscriber_obs.subscribe(subscription_path_obs, callback=callback)\n",
    "print(f'Listening for messages on {subscription_path_obs}')"
   ]
  },
  {
   "cell_type": "code",
   "execution_count": 28,
   "metadata": {},
   "outputs": [
    {
     "name": "stdout",
     "output_type": "stream",
     "text": [
      "Listening for messages on projects/weather-based-forecasting-v2/subscriptions/python_forecast_sub\n"
     ]
    }
   ],
   "source": [
    "streaming_pull_future_forecast = subscriber_forecast.subscribe(subscription_path_forecast, callback=callback)\n",
    "print(f'Listening for messages on {subscription_path_forecast}')"
   ]
  },
  {
   "cell_type": "code",
   "execution_count": 3,
   "metadata": {},
   "outputs": [],
   "source": [
    "with subscriber_obs:                                                # wrap subscriber in a 'with' block to automatically call close() when done\n",
    "    try:\n",
    "        # streaming_pull_future.result(timeout=timeout)\n",
    "        streaming_pull_future_obs.result()                          # going without a timeout will wait & block indefinitely\n",
    "    except TimeoutError:\n",
    "        streaming_pull_future_obs.cancel()                          # trigger the shutdown\n",
    "        streaming_pull_future_obs.result()                          # block until the shutdown is complete"
   ]
  },
  {
   "cell_type": "code",
   "execution_count": 4,
   "metadata": {},
   "outputs": [],
   "source": [
    "with subscriber_forecast:                                                # wrap subscriber in a 'with' block to automatically call close() when done\n",
    "    try:\n",
    "        # streaming_pull_future.result(timeout=timeout)\n",
    "        streaming_pull_future_forecast.result()                          # going without a timeout will wait & block indefinitely\n",
    "    except TimeoutError:\n",
    "        streaming_pull_future_forecast.cancel()                          # trigger the shutdown\n",
    "        streaming_pull_future_forecast.result()                          # block until the shutdown is complete\n"
   ]
  },
  {
   "cell_type": "code",
   "execution_count": null,
   "metadata": {},
   "outputs": [],
   "source": []
  }
 ],
 "metadata": {
  "kernelspec": {
   "display_name": "Python 3 (ipykernel)",
   "language": "python",
   "name": "python3"
  },
  "language_info": {
   "codemirror_mode": {
    "name": "ipython",
    "version": 3
   },
   "file_extension": ".py",
   "mimetype": "text/x-python",
   "name": "python",
   "nbconvert_exporter": "python",
   "pygments_lexer": "ipython3",
   "version": "3.9.7"
  }
 },
 "nbformat": 4,
 "nbformat_minor": 4
}
