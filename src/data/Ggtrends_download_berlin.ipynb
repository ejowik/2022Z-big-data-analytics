{
 "cells": [
  {
   "cell_type": "code",
   "execution_count": null,
   "metadata": {},
   "outputs": [],
   "source": [
    "import os\n",
    "from google.cloud import pubsub_v1\n",
    "import sys\n",
    "import time\n",
    "import pandas as pd\n",
    "import numpy as np\n",
    "import http.client\n",
    "from io import StringIO\n",
    "from pytrends.request import TrendReq\n",
    "from datetime import datetime, timedelta\n",
    "import functools as ft"
   ]
  },
  {
   "cell_type": "code",
   "execution_count": null,
   "metadata": {},
   "outputs": [],
   "source": [
    "!python --version"
   ]
  },
  {
   "cell_type": "markdown",
   "metadata": {},
   "source": [
    "## Create connection to PubSub"
   ]
  },
  {
   "cell_type": "code",
   "execution_count": null,
   "metadata": {},
   "outputs": [],
   "source": [
    "credentials_path = 'weather-based-forecasting-v2-c4bde37656a7.json'\n",
    "os.environ['GOOGLE_APPLICATION_CREDENTIALS'] = credentials_path"
   ]
  },
  {
   "cell_type": "code",
   "execution_count": null,
   "metadata": {},
   "outputs": [],
   "source": [
    "publisher = pubsub_v1.PublisherClient(\n",
    "    publisher_options = pubsub_v1.types.PublisherOptions(\n",
    "        enable_message_ordering=True,\n",
    "    )\n",
    ")\n",
    "topic_path = 'projects/weather-based-forecasting-v2/topics/trends_topic'"
   ]
  },
  {
   "cell_type": "markdown",
   "metadata": {},
   "source": [
    "## Download the data"
   ]
  },
  {
   "cell_type": "code",
   "execution_count": null,
   "metadata": {},
   "outputs": [],
   "source": [
    "def get_interest_for_geo_and_term(geo, term, now):\n",
    "    previous_date = now - timedelta(hours=24)\n",
    "    pytrends = TrendReq(hl='en-US', tz=360)\n",
    "    df_main = pytrends.get_historical_interest(\n",
    "        [term], year_start=previous_date.year, month_start=previous_date.month, day_start=previous_date.day,\n",
    "        hour_start=previous_date.hour, year_end=now.year, month_end=now.month, day_end=now.day, hour_end=now.hour,\n",
    "        sleep=90, geo=geo)\n",
    "    df_main = df_main.reset_index(drop=False)\n",
    "    \n",
    "    first_date = '-'.join([str(previous_date.year), str(previous_date.month), str(previous_date.day)])\n",
    "\n",
    "    date_one = first_date + 'T' + str(previous_date.hour-1)\n",
    "    date_two = first_date + 'T' + str(previous_date.hour+1)\n",
    "    pytrends.build_payload([term], timeframe=date_one + ' ' + date_two)\n",
    "    df_last_day = pytrends.interest_over_time().reset_index(drop=False)\n",
    "    df_last_day['join_hour'] = [str(date.replace(microsecond=0, second=0, minute=0)) for date in df_last_day['date']]\n",
    "    df_last_day.columns = ['date_exact', term, 'isPartial', 'date']\n",
    "    df_last_day['date'] = df_last_day['date'].astype('datetime64[ns]')\n",
    "    \n",
    "    df_main = pd.merge(df_main, df_last_day, how=\"left\", on=[\"date\"])\n",
    "\n",
    "    second_date = '-'.join([str(now.year), str(now.month), str(now.day)])\n",
    "\n",
    "    date_three = second_date + 'T' + str(now.hour-1)\n",
    "    date_four = second_date + 'T' + str(now.hour+2)\n",
    "\n",
    "    pytrends.build_payload([term], timeframe=date_three + ' ' + date_four)\n",
    "    df_first_day = pytrends.interest_over_time().reset_index(drop=False)\n",
    "    df_first_day['join_hour'] = [str(date.replace(microsecond=0, second=0, minute=0)) for date in df_first_day['date']]\n",
    "    df_first_day.columns = ['date_exact', term, 'isPartial', 'date']\n",
    "    df_first_day['date'] = df_first_day['date'].astype('datetime64[ns]')\n",
    "\n",
    "    df_main = pd.merge(df_main, df_first_day, how=\"left\", on=[\"date\"])\n",
    "    \n",
    "    df_main[term + '2'] = df_main[term] * (df_main[term + '_x']/100)\n",
    "    df_main.loc[df_main[term + '2'].isna(),[term + '2']] = df_main[term + '_y'] * (df_main[term + '_x']/100)\n",
    "    df_main.loc[df_main['date_exact_x'].isna(),['date_exact_x']] = df_main['date_exact_y']\n",
    "    df_main = df_main.loc[~df_main['date_exact_x'].isna(),['date_exact_x', term + '2']].reset_index(drop=True)\n",
    "    \n",
    "    for i in range(df_main.shape[0]):\n",
    "        element_date = df_main[['date_exact_x']].iloc[i][0]\n",
    "        if type(element_date) == int:\n",
    "            df_main.loc[i,['date_exact_x']] = datetime.utcfromtimestamp(int(element_date) / 1e9).strftime(\"%Y-%m-%d %H:%M:%S\")\n",
    "    df_main.columns = ['date', term]\n",
    "    df_main['date'] = df_main['date'].astype(str)\n",
    "    df_main['date'] = pd.to_datetime(df_main['date'], format='%Y-%m-%d %H:%M:%S')\n",
    "    \n",
    "    df_main2 = df_main.copy()\n",
    "    df_main2['date'] = df_main2['date'] + timedelta(days=1)\n",
    "    \n",
    "    final = pd.merge(df_main[-5:], df_main2, how=\"left\", on=[\"date\"])\n",
    "    final[term] = final[term + '_x'] - final[term + '_y']\n",
    "    final = final[['date', term]]\n",
    "    return final\n",
    "    \n",
    "\n",
    "def get_all_interest_for_geo(geo, address, now):\n",
    "    output = get_interest_for_geo_and_term(geo=geo, term='Instagram', now = now)\n",
    "    for topic in ['Twitter', 'YouTube', 'LinkedIn', 'Facebook']:\n",
    "        out = get_interest_for_geo_and_term(geo=geo, term=topic, now = now)\n",
    "        output = pd.merge(output, out, how=\"left\", on=[\"date\"])\n",
    "    output = output.add_suffix('_'+address)\n",
    "    output=output.rename(columns = {'date_'+address:'date'})\n",
    "    return output\n",
    "\n",
    "def prepare_single_location_trends(geo, address, now):\n",
    "    try:\n",
    "        df = get_all_interest_for_geo(geo=geo, address=address, now=now).fillna(0)\n",
    "    except:\n",
    "        df = pd.DataFrame({'date': pd.to_datetime([now + timedelta(minutes=i) for i in range(5)], format='%Y-%m-%d %H:%M:%S')})\n",
    "        for topic in ['Twitter', 'YouTube', 'LinkedIn', 'Facebook']:\n",
    "            df[topic+'_'+address] = np.repeat(0,5)\n",
    "    return df"
   ]
  },
  {
   "cell_type": "markdown",
   "metadata": {},
   "source": [
    "# Send observations in intervals to PubSub"
   ]
  },
  {
   "cell_type": "code",
   "execution_count": null,
   "metadata": {},
   "outputs": [],
   "source": [
    "old_time = None\n",
    "while True:\n",
    "    pytrends = TrendReq(hl='en-US', tz=360)\n",
    "    pytrends.build_payload(['Facebook'], timeframe='now 1-H', geo='DE-BE')\n",
    "    df = pytrends.interest_over_time()\n",
    "    date_now = df.index[-1]\n",
    "    now = datetime.strptime(str(date_now), \"%Y-%m-%d %H:%M:%S\")\n",
    "    \n",
    "    if (old_time is None) or (date_now == old_time + timedelta(minutes=5)):\n",
    "        print(now)\n",
    "        geo = 'DE-BE'\n",
    "        address='Berlin'\n",
    "        df1 = prepare_single_location_trends(geo, address, now)\n",
    "        \n",
    "        geo = 'DE-HB'\n",
    "        address='Bremen'\n",
    "        df2 = prepare_single_location_trends(geo, address, now)\n",
    "        \n",
    "        geo = 'DE-HH'\n",
    "        address='Hamburg'\n",
    "        df3 = prepare_single_location_trends(geo, address, now)\n",
    "    \n",
    "        old_time = date_now\n",
    "        dfs = [df1, df2, df3]\n",
    "        df = ft.reduce(lambda left, right: pd.merge(left, right, on='date'), dfs)\n",
    "        for i in range(df.shape[0]):\n",
    "            obs = str(df.iloc[i,:].astype(str).to_dict()).replace('\\'', '\\\"')\n",
    "            index = df.iloc[i,:].date\n",
    "            index = str(int(index.value / 10**9)).encode(\"utf-8\")\n",
    "            obs = obs.encode(\"utf-8\")\n",
    "            future = publisher.publish(topic_path, obs, ordering_key=index)\n",
    "            print(f'published message id {future.result()}')\n",
    "            if i != 4:\n",
    "                time.sleep(60)\n",
    "    elif (date_now is not None) and (date_now > old_time + timedelta(minutes=5)):\n",
    "        old_time = date_now\n",
    "    time.sleep(30)"
   ]
  },
  {
   "cell_type": "code",
   "execution_count": null,
   "metadata": {},
   "outputs": [],
   "source": []
  }
 ],
 "metadata": {
  "kernelspec": {
   "display_name": "Python 3 (ipykernel)",
   "language": "python",
   "name": "python3"
  },
  "language_info": {
   "codemirror_mode": {
    "name": "ipython",
    "version": 3
   },
   "file_extension": ".py",
   "mimetype": "text/x-python",
   "name": "python",
   "nbconvert_exporter": "python",
   "pygments_lexer": "ipython3",
   "version": "3.9.7"
  }
 },
 "nbformat": 4,
 "nbformat_minor": 4
}
