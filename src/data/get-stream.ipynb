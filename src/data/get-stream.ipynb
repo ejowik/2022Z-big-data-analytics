{
 "cells": [
  {
   "cell_type": "markdown",
   "metadata": {},
   "source": [
    "# Weather-based Websites Engagement Forecasting\n",
    "## Objectives\n",
    "The purpose of this notebook is to provide a proof that this system is capable to load real-time data (PubSub messages)"
   ]
  },
  {
   "cell_type": "markdown",
   "metadata": {},
   "source": [
    "# Adding PubSub"
   ]
  },
  {
   "cell_type": "code",
   "execution_count": 26,
   "metadata": {},
   "outputs": [],
   "source": [
    "import os\n",
    "import ast\n",
    "import pandas as pd\n",
    "from google.cloud import pubsub_v1\n",
    "from concurrent.futures import TimeoutError"
   ]
  },
  {
   "cell_type": "code",
   "execution_count": 27,
   "metadata": {},
   "outputs": [],
   "source": [
    "credentials_path = 'weather-based-forecasting-v2-c4bde37656a7.json'\n",
    "os.environ['GOOGLE_APPLICATION_CREDENTIALS'] = credentials_path\n",
    "timeout = 5.0"
   ]
  },
  {
   "cell_type": "code",
   "execution_count": 103,
   "metadata": {},
   "outputs": [],
   "source": [
    "vec = []\n",
    "def callback(message):\n",
    "\n",
    "    print(f'Received message: {message}')\n",
    "    \"\"\"\n",
    "    print(f'data: {message.data}')\n",
    "\n",
    "    if message.attributes:\n",
    "        print(\"Attributes:\")\n",
    "        for key in message.attributes:\n",
    "            value = message.attributes.get(key)\n",
    "            print(f\"{key}: {value}\")\n",
    "    \"\"\"\n",
    "    message.ack()\n",
    "    vec.append(message.data)"
   ]
  },
  {
   "cell_type": "markdown",
   "metadata": {},
   "source": [
    "## Gogle Trends"
   ]
  },
  {
   "cell_type": "code",
   "execution_count": 42,
   "metadata": {},
   "outputs": [],
   "source": [
    "subscriber = pubsub_v1.SubscriberClient()\n",
    "subscription_path_GGT = 'projects/weather-based-forecasting-v2/subscriptions/nifi_trends_sub'"
   ]
  },
  {
   "cell_type": "code",
   "execution_count": 43,
   "metadata": {},
   "outputs": [
    {
     "name": "stdout",
     "output_type": "stream",
     "text": [
      "Listening for messages on projects/weather-based-forecasting-v2/subscriptions/nifi_trends_sub\n"
     ]
    }
   ],
   "source": [
    "streaming_pull_future_GGT = subscriber.subscribe(subscription_path_GGT, callback=callback)\n",
    "print(f'Listening for messages on {subscription_path_GGT}')"
   ]
  },
  {
   "cell_type": "markdown",
   "metadata": {},
   "source": [
    "## Weather Data "
   ]
  },
  {
   "cell_type": "code",
   "execution_count": 125,
   "metadata": {},
   "outputs": [],
   "source": [
    "subscriber = pubsub_v1.SubscriberClient() #Do if you didnt done it in Google trends part\n",
    "subscription_path_WD = 'projects/weather-based-forecasting-v2/subscriptions/python_topic_sub'"
   ]
  },
  {
   "cell_type": "code",
   "execution_count": 126,
   "metadata": {},
   "outputs": [
    {
     "name": "stdout",
     "output_type": "stream",
     "text": [
      "Listening for messages on projects/weather-based-forecasting-v2/subscriptions/python_topic_sub\n"
     ]
    }
   ],
   "source": [
    "streaming_pull_future_WD = subscriber.subscribe(subscription_path_WD, callback=callback)\n",
    "print(f'Listening for messages on {subscription_path_WD}')"
   ]
  },
  {
   "cell_type": "code",
   "execution_count": null,
   "metadata": {},
   "outputs": [],
   "source": [
    "# Case 1.: Reading messages from topic using one subscriber"
   ]
  },
  {
   "cell_type": "code",
   "execution_count": 127,
   "metadata": {},
   "outputs": [
    {
     "name": "stdout",
     "output_type": "stream",
     "text": [
      "Received message: Message {\n",
      "  data: b'{\"Address\": \"Hamburg\", \"Date time\": \"2022-12-18 11...'\n",
      "  ordering_key: '1671364020'\n",
      "  attributes: {}\n",
      "}\n",
      "data: b'{\"Address\": \"Hamburg\", \"Date time\": \"2022-12-18 11:47:00\", \"Latitude\": \"53.5537\", \"Longitude\": \"9.99183\", \"Resolved Address\": \"Hamburg\", \"Name\": \"Hamburg\", \"Wind Direction\": \"138.24\", \"Temperature\": \"-4.1033333333333335\", \"Wind Speed\": \"7.665\", \"Cloud Cover\": \"48.88\", \"Heat Index\": \"nan\", \"Chance Precipitation (%)\": \"0.0\", \"Precipitation\": \"0.0\", \"Sea Level Pressure\": \"1031.0\", \"Snow Depth\": \"0.0\", \"Snow\": \"0.0\", \"Relative Humidity\": \"72.30166666666666\", \"Wind Gust\": \"17.535\", \"Wind Chill\": \"-7.49\", \"Conditions\": \"Partially cloudy\"}'\n",
      "Received message: Message {\n",
      "  data: b'{\"Address\": \"Hamburg\", \"Date time\": \"2022-12-18 11...'\n",
      "  ordering_key: '1671363900'\n",
      "  attributes: {}\n",
      "}\n",
      "data: b'{\"Address\": \"Hamburg\", \"Date time\": \"2022-12-18 11:45:00\", \"Latitude\": \"53.5537\", \"Longitude\": \"9.99183\", \"Resolved Address\": \"Hamburg\", \"Name\": \"Hamburg\", \"Wind Direction\": \"138.2\", \"Temperature\": \"-4.15\", \"Wind Speed\": \"7.675\", \"Cloud Cover\": \"46.800000000000004\", \"Heat Index\": \"nan\", \"Chance Precipitation (%)\": \"0.0\", \"Precipitation\": \"0.0\", \"Sea Level Pressure\": \"1031.0\", \"Snow Depth\": \"0.0\", \"Snow\": \"0.0\", \"Relative Humidity\": \"72.425\", \"Wind Gust\": \"17.525000000000002\", \"Wind Chill\": \"-7.55\", \"Conditions\": \"Partially cloudy\"}'\n",
      "Received message: Message {\n",
      "  data: b'{\"Address\": \"Hamburg\", \"Date time\": \"2022-12-18 11...'\n",
      "  ordering_key: '1671363960'\n",
      "  attributes: {}\n",
      "}\n",
      "data: b'{\"Address\": \"Hamburg\", \"Date time\": \"2022-12-18 11:46:00\", \"Latitude\": \"53.5537\", \"Longitude\": \"9.99183\", \"Resolved Address\": \"Hamburg\", \"Name\": \"Hamburg\", \"Wind Direction\": \"138.22\", \"Temperature\": \"-4.126666666666667\", \"Wind Speed\": \"7.67\", \"Cloud Cover\": \"47.84\", \"Heat Index\": \"nan\", \"Chance Precipitation (%)\": \"0.0\", \"Precipitation\": \"0.0\", \"Sea Level Pressure\": \"1031.0\", \"Snow Depth\": \"0.0\", \"Snow\": \"0.0\", \"Relative Humidity\": \"72.36333333333333\", \"Wind Gust\": \"17.53\", \"Wind Chill\": \"-7.52\", \"Conditions\": \"Partially cloudy\"}'\n",
      "Received message: Message {\n",
      "  data: b'{\"Address\": \"Hamburg\", \"Date time\": \"2022-12-18 11...'\n",
      "  ordering_key: '1671363900'\n",
      "  attributes: {}\n",
      "}\n",
      "data: b'{\"Address\": \"Hamburg\", \"Date time\": \"2022-12-18 11:45:00\", \"Latitude\": \"53.5537\", \"Longitude\": \"9.99183\", \"Resolved Address\": \"Hamburg\", \"Name\": \"Hamburg\", \"Wind Direction\": \"138.2\", \"Temperature\": \"-4.15\", \"Wind Speed\": \"7.675\", \"Cloud Cover\": \"46.800000000000004\", \"Heat Index\": \"nan\", \"Chance Precipitation (%)\": \"0.0\", \"Precipitation\": \"0.0\", \"Sea Level Pressure\": \"1031.0\", \"Snow Depth\": \"0.0\", \"Snow\": \"0.0\", \"Relative Humidity\": \"72.425\", \"Wind Gust\": \"17.525000000000002\", \"Wind Chill\": \"-7.55\", \"Conditions\": \"Partially cloudy\"}'\n",
      "Received message: Message {\n",
      "  data: b'{\"Address\": \"Hamburg\", \"Date time\": \"2022-12-18 11...'\n",
      "  ordering_key: '1671363960'\n",
      "  attributes: {}\n",
      "}\n",
      "data: b'{\"Address\": \"Hamburg\", \"Date time\": \"2022-12-18 11:46:00\", \"Latitude\": \"53.5537\", \"Longitude\": \"9.99183\", \"Resolved Address\": \"Hamburg\", \"Name\": \"Hamburg\", \"Wind Direction\": \"138.22\", \"Temperature\": \"-4.126666666666667\", \"Wind Speed\": \"7.67\", \"Cloud Cover\": \"47.84\", \"Heat Index\": \"nan\", \"Chance Precipitation (%)\": \"0.0\", \"Precipitation\": \"0.0\", \"Sea Level Pressure\": \"1031.0\", \"Snow Depth\": \"0.0\", \"Snow\": \"0.0\", \"Relative Humidity\": \"72.36333333333333\", \"Wind Gust\": \"17.53\", \"Wind Chill\": \"-7.52\", \"Conditions\": \"Partially cloudy\"}'\n"
     ]
    }
   ],
   "source": [
    "vec = []\n",
    "with subscriber:\n",
    "    try:\n",
    "        streaming_pull_future_WD.result(timeout=10)\n",
    "    except TimeoutError:\n",
    "\n",
    "        streaming_pull_future_WD.cancel()\n",
    "        streaming_pull_future_WD.result()"
   ]
  },
  {
   "cell_type": "code",
   "execution_count": 128,
   "metadata": {},
   "outputs": [
    {
     "data": {
      "text/plain": [
       "[b'{\"Address\": \"Hamburg\", \"Date time\": \"2022-12-18 11:47:00\", \"Latitude\": \"53.5537\", \"Longitude\": \"9.99183\", \"Resolved Address\": \"Hamburg\", \"Name\": \"Hamburg\", \"Wind Direction\": \"138.24\", \"Temperature\": \"-4.1033333333333335\", \"Wind Speed\": \"7.665\", \"Cloud Cover\": \"48.88\", \"Heat Index\": \"nan\", \"Chance Precipitation (%)\": \"0.0\", \"Precipitation\": \"0.0\", \"Sea Level Pressure\": \"1031.0\", \"Snow Depth\": \"0.0\", \"Snow\": \"0.0\", \"Relative Humidity\": \"72.30166666666666\", \"Wind Gust\": \"17.535\", \"Wind Chill\": \"-7.49\", \"Conditions\": \"Partially cloudy\"}',\n",
       " b'{\"Address\": \"Hamburg\", \"Date time\": \"2022-12-18 11:45:00\", \"Latitude\": \"53.5537\", \"Longitude\": \"9.99183\", \"Resolved Address\": \"Hamburg\", \"Name\": \"Hamburg\", \"Wind Direction\": \"138.2\", \"Temperature\": \"-4.15\", \"Wind Speed\": \"7.675\", \"Cloud Cover\": \"46.800000000000004\", \"Heat Index\": \"nan\", \"Chance Precipitation (%)\": \"0.0\", \"Precipitation\": \"0.0\", \"Sea Level Pressure\": \"1031.0\", \"Snow Depth\": \"0.0\", \"Snow\": \"0.0\", \"Relative Humidity\": \"72.425\", \"Wind Gust\": \"17.525000000000002\", \"Wind Chill\": \"-7.55\", \"Conditions\": \"Partially cloudy\"}',\n",
       " b'{\"Address\": \"Hamburg\", \"Date time\": \"2022-12-18 11:46:00\", \"Latitude\": \"53.5537\", \"Longitude\": \"9.99183\", \"Resolved Address\": \"Hamburg\", \"Name\": \"Hamburg\", \"Wind Direction\": \"138.22\", \"Temperature\": \"-4.126666666666667\", \"Wind Speed\": \"7.67\", \"Cloud Cover\": \"47.84\", \"Heat Index\": \"nan\", \"Chance Precipitation (%)\": \"0.0\", \"Precipitation\": \"0.0\", \"Sea Level Pressure\": \"1031.0\", \"Snow Depth\": \"0.0\", \"Snow\": \"0.0\", \"Relative Humidity\": \"72.36333333333333\", \"Wind Gust\": \"17.53\", \"Wind Chill\": \"-7.52\", \"Conditions\": \"Partially cloudy\"}',\n",
       " b'{\"Address\": \"Hamburg\", \"Date time\": \"2022-12-18 11:45:00\", \"Latitude\": \"53.5537\", \"Longitude\": \"9.99183\", \"Resolved Address\": \"Hamburg\", \"Name\": \"Hamburg\", \"Wind Direction\": \"138.2\", \"Temperature\": \"-4.15\", \"Wind Speed\": \"7.675\", \"Cloud Cover\": \"46.800000000000004\", \"Heat Index\": \"nan\", \"Chance Precipitation (%)\": \"0.0\", \"Precipitation\": \"0.0\", \"Sea Level Pressure\": \"1031.0\", \"Snow Depth\": \"0.0\", \"Snow\": \"0.0\", \"Relative Humidity\": \"72.425\", \"Wind Gust\": \"17.525000000000002\", \"Wind Chill\": \"-7.55\", \"Conditions\": \"Partially cloudy\"}',\n",
       " b'{\"Address\": \"Hamburg\", \"Date time\": \"2022-12-18 11:46:00\", \"Latitude\": \"53.5537\", \"Longitude\": \"9.99183\", \"Resolved Address\": \"Hamburg\", \"Name\": \"Hamburg\", \"Wind Direction\": \"138.22\", \"Temperature\": \"-4.126666666666667\", \"Wind Speed\": \"7.67\", \"Cloud Cover\": \"47.84\", \"Heat Index\": \"nan\", \"Chance Precipitation (%)\": \"0.0\", \"Precipitation\": \"0.0\", \"Sea Level Pressure\": \"1031.0\", \"Snow Depth\": \"0.0\", \"Snow\": \"0.0\", \"Relative Humidity\": \"72.36333333333333\", \"Wind Gust\": \"17.53\", \"Wind Chill\": \"-7.52\", \"Conditions\": \"Partially cloudy\"}']"
      ]
     },
     "execution_count": 128,
     "metadata": {},
     "output_type": "execute_result"
    }
   ],
   "source": [
    "for v in vec:\n",
    "    v.decode('UTF-8')"
   ]
  },
  {
   "cell_type": "code",
   "execution_count": 123,
   "metadata": {},
   "outputs": [
    {
     "data": {
      "text/html": [
       "<div>\n",
       "<style scoped>\n",
       "    .dataframe tbody tr th:only-of-type {\n",
       "        vertical-align: middle;\n",
       "    }\n",
       "\n",
       "    .dataframe tbody tr th {\n",
       "        vertical-align: top;\n",
       "    }\n",
       "\n",
       "    .dataframe thead th {\n",
       "        text-align: right;\n",
       "    }\n",
       "</style>\n",
       "<table border=\"1\" class=\"dataframe\">\n",
       "  <thead>\n",
       "    <tr style=\"text-align: right;\">\n",
       "      <th></th>\n",
       "      <th>Address</th>\n",
       "      <th>Date time</th>\n",
       "      <th>Latitude</th>\n",
       "      <th>Longitude</th>\n",
       "      <th>Resolved Address</th>\n",
       "      <th>Name</th>\n",
       "      <th>Wind Direction</th>\n",
       "      <th>Temperature</th>\n",
       "      <th>Wind Speed</th>\n",
       "      <th>Cloud Cover</th>\n",
       "      <th>Heat Index</th>\n",
       "      <th>Chance Precipitation (%)</th>\n",
       "      <th>Precipitation</th>\n",
       "      <th>Sea Level Pressure</th>\n",
       "      <th>Snow Depth</th>\n",
       "      <th>Snow</th>\n",
       "      <th>Relative Humidity</th>\n",
       "      <th>Wind Gust</th>\n",
       "      <th>Wind Chill</th>\n",
       "      <th>Conditions</th>\n",
       "    </tr>\n",
       "  </thead>\n",
       "  <tbody>\n",
       "    <tr>\n",
       "      <th>0</th>\n",
       "      <td>Hamburg</td>\n",
       "      <td>2022-12-18 11:45:00</td>\n",
       "      <td>53.5537</td>\n",
       "      <td>9.99183</td>\n",
       "      <td>Hamburg</td>\n",
       "      <td>Hamburg</td>\n",
       "      <td>138.2</td>\n",
       "      <td>-4.15</td>\n",
       "      <td>7.675</td>\n",
       "      <td>46.800000000000004</td>\n",
       "      <td>nan</td>\n",
       "      <td>0.0</td>\n",
       "      <td>0.0</td>\n",
       "      <td>1031.0</td>\n",
       "      <td>0.0</td>\n",
       "      <td>0.0</td>\n",
       "      <td>72.425</td>\n",
       "      <td>17.525000000000002</td>\n",
       "      <td>-7.55</td>\n",
       "      <td>Partially cloudy</td>\n",
       "    </tr>\n",
       "  </tbody>\n",
       "</table>\n",
       "</div>"
      ],
      "text/plain": [
       "   Address            Date time Latitude Longitude Resolved Address     Name  \\\n",
       "0  Hamburg  2022-12-18 11:45:00  53.5537   9.99183          Hamburg  Hamburg   \n",
       "\n",
       "  Wind Direction Temperature Wind Speed         Cloud Cover Heat Index  \\\n",
       "0          138.2       -4.15      7.675  46.800000000000004        nan   \n",
       "\n",
       "  Chance Precipitation (%) Precipitation Sea Level Pressure Snow Depth Snow  \\\n",
       "0                      0.0           0.0             1031.0        0.0  0.0   \n",
       "\n",
       "  Relative Humidity           Wind Gust Wind Chill        Conditions  \n",
       "0            72.425  17.525000000000002      -7.55  Partially cloudy  "
      ]
     },
     "execution_count": 123,
     "metadata": {},
     "output_type": "execute_result"
    }
   ],
   "source": [
    "res = ast.literal_eval(vec[0].decode('UTF-8'))\n",
    "pd.DataFrame.from_dict([res])"
   ]
  },
  {
   "cell_type": "code",
   "execution_count": 9,
   "metadata": {},
   "outputs": [],
   "source": [
    "# Case 2.: Reading messages from topics using multiple subscribers"
   ]
  },
  {
   "cell_type": "code",
   "execution_count": 10,
   "metadata": {},
   "outputs": [],
   "source": [
    "with subscriber:                                                # wrap subscriber in a 'with' block to automatically call close() when done\n",
    "    try:\n",
    "        streaming_pull_future_GGT.result()                          # going without a timeout will wait & block indefinitely\n",
    "        streaming_pull_future_WD.result()\n",
    "    except TimeoutError:\n",
    "        streaming_pull_future_GGT.cancel()                          # trigger the shutdown\n",
    "        streaming_pull_future_GGT.result()                          # block until the shutdown is complete\n",
    "        \n",
    "        streaming_pull_future_WD.cancel()                          # trigger the shutdown\n",
    "        streaming_pull_future_WD.result()"
   ]
  },
  {
   "cell_type": "code",
   "execution_count": null,
   "metadata": {},
   "outputs": [],
   "source": []
  }
 ],
 "metadata": {
  "kernelspec": {
   "display_name": "Python 3 (ipykernel)",
   "language": "python",
   "name": "python3"
  },
  "language_info": {
   "codemirror_mode": {
    "name": "ipython",
    "version": 3
   },
   "file_extension": ".py",
   "mimetype": "text/x-python",
   "name": "python",
   "nbconvert_exporter": "python",
   "pygments_lexer": "ipython3",
   "version": "3.9.7"
  }
 },
 "nbformat": 4,
 "nbformat_minor": 4
}
